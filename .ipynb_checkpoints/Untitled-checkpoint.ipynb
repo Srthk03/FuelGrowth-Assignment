{
 "cells": [
  {
   "cell_type": "code",
   "execution_count": 12,
   "id": "3c03611d",
   "metadata": {},
   "outputs": [
    {
     "name": "stdout",
     "output_type": "stream",
     "text": [
      "Processing complete. Results saved to 'final_influencer_scores.csv'.\n"
     ]
    }
   ],
   "source": [
    "from selenium import webdriver\n",
    "from selenium.webdriver.common.by import By\n",
    "import time\n",
    "\n",
    "def download_video_with_selenium(video_url):\n",
    "    \"\"\"Automate browser interaction to download videos.\"\"\"\n",
    "    driver = webdriver.Chrome()  # Make sure ChromeDriver is installed\n",
    "    driver.get(video_url)\n",
    "\n",
    "    # Wait for the page to load\n",
    "    time.sleep(5)\n",
    "\n",
    "    # Locate and click the three-dots menu or download button\n",
    "    options_button = driver.find_element(By.XPATH, \"//button[contains(@aria-label, 'Options')]\")\n",
    "    options_button.click()\n",
    "\n",
    "    time.sleep(1)\n",
    "\n",
    "    download_button = driver.find_element(By.XPATH, \"//a[text()='Download']\")\n",
    "    download_button.click()\n",
    "\n",
    "    # Wait for the download to complete\n",
    "    time.sleep(20)\n",
    "\n",
    "    driver.quit()\n",
    "\n",
    "# Example Usage\n",
    "video_links = [\"https://fgimagestorage.blob.core.windows.net/facebook-assets/hd-999607261342550\"]\n",
    "for video_link in video_links:\n",
    "    download_video_with_selenium(video_link)\n"
   ]
  },
  {
   "cell_type": "code",
   "execution_count": null,
   "id": "47e5a618",
   "metadata": {},
   "outputs": [],
   "source": []
  }
 ],
 "metadata": {
  "kernelspec": {
   "display_name": "Python 3 (ipykernel)",
   "language": "python",
   "name": "python3"
  },
  "language_info": {
   "codemirror_mode": {
    "name": "ipython",
    "version": 3
   },
   "file_extension": ".py",
   "mimetype": "text/x-python",
   "name": "python",
   "nbconvert_exporter": "python",
   "pygments_lexer": "ipython3",
   "version": "3.10.9"
  }
 },
 "nbformat": 4,
 "nbformat_minor": 5
}
